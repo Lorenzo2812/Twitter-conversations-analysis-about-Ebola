{
 "cells": [
  {
   "cell_type": "markdown",
   "id": "fe6df8b7",
   "metadata": {
    "slideshow": {
     "slide_type": "slide"
    }
   },
   "source": [
    "# PROJECT 206: ANALYSIS OF TWITTER CONVERSATIONS ABOUT EBOLA"
   ]
  },
  {
   "cell_type": "markdown",
   "id": "37280b9f",
   "metadata": {
    "slideshow": {
     "slide_type": "slide"
    }
   },
   "source": [
    "The aim of the project is to analyse the tweets containing the keyword 'Ebola', collected for the period from 10 March 2022 to 17 November 2022."
   ]
  },
  {
   "cell_type": "markdown",
   "id": "cbe0f987",
   "metadata": {
    "slideshow": {
     "slide_type": "fragment"
    }
   },
   "source": [
    "The project is structured in several steps, each represented in a different notebook: this notebook will deal with importing data, creating the dataset "
   ]
  },
  {
   "cell_type": "markdown",
   "id": "40dd9380",
   "metadata": {
    "slideshow": {
     "slide_type": "slide"
    }
   },
   "source": [
    "The project is inspired by the paper: \"Ebola and Localized Blame on Social Media: Analysis of Twitter and Facebook Conversations during the 2014–2015 Ebola Epidemic\". The related study focused on the dynamics and evolution of the online attribution of blame. The authors extracted data using tweets containing the keyword 'Ebola' as well as facebook comments"
   ]
  },
  {
   "cell_type": "markdown",
   "id": "0a7076a7",
   "metadata": {
    "slideshow": {
     "slide_type": "fragment"
    }
   },
   "source": [
    "The analysis allowed the identification of themes: eleven themtic categories were found and finally regrouped into six final categories. These categories concerned the main figures to blame, namely: global health authorities, national government, immigrants, populations in the affected areas, global elites and the media"
   ]
  },
  {
   "cell_type": "markdown",
   "id": "6e84ef6d",
   "metadata": {
    "slideshow": {
     "slide_type": "slide"
    }
   },
   "source": [
    "# RUNNING USEFUL NOTEBOOKS"
   ]
  },
  {
   "cell_type": "markdown",
   "id": "a29464fc",
   "metadata": {
    "slideshow": {
     "slide_type": "slide"
    }
   },
   "source": [
    "The setup notebook includes all the libraries and modules useful for the project"
   ]
  },
  {
   "cell_type": "markdown",
   "id": "86d78dee",
   "metadata": {
    "slideshow": {
     "slide_type": "fragment"
    }
   },
   "source": [
    "The Function_for_text_analysis notebook contains all the user-defined functions"
   ]
  },
  {
   "cell_type": "code",
   "execution_count": 1,
   "id": "b4bad6b1",
   "metadata": {
    "slideshow": {
     "slide_type": "fragment"
    }
   },
   "outputs": [
    {
     "name": "stderr",
     "output_type": "stream",
     "text": [
      "C:\\Users\\39324\\anaconda3\\lib\\site-packages\\scipy\\sparse\\sparsetools.py:21: DeprecationWarning: `scipy.sparse.sparsetools` is deprecated!\n",
      "scipy.sparse.sparsetools is a private module for scipy.sparse, and should not be used.\n",
      "  _deprecated()\n",
      "[nltk_data] Downloading package stopwords to\n",
      "[nltk_data]     C:\\Users\\39324\\AppData\\Roaming\\nltk_data...\n",
      "[nltk_data]   Package stopwords is already up-to-date!\n",
      "[nltk_data] Downloading package wordnet to\n",
      "[nltk_data]     C:\\Users\\39324\\AppData\\Roaming\\nltk_data...\n",
      "[nltk_data]   Package wordnet is already up-to-date!\n",
      "<>:25: DeprecationWarning: invalid escape sequence \\S\n",
      "C:\\Users\\39324\\AppData\\Local\\Temp\\ipykernel_33444\\2979463074.py:25: DeprecationWarning: invalid escape sequence \\S\n",
      "  p1 = re.sub(pattern='http://\\S+|https://\\S+',repl= '', string=word)\n"
     ]
    }
   ],
   "source": [
    "%run setup.ipynb\n",
    "%run Functions_for_text_analysis.ipynb"
   ]
  },
  {
   "cell_type": "markdown",
   "id": "f2b717f3",
   "metadata": {
    "slideshow": {
     "slide_type": "slide"
    }
   },
   "source": [
    "# IMPORTING DATA"
   ]
  },
  {
   "cell_type": "markdown",
   "id": "77cd6081",
   "metadata": {
    "slideshow": {
     "slide_type": "slide"
    }
   },
   "source": [
    "First, all the paths of the dataset have been put in a list "
   ]
  },
  {
   "cell_type": "code",
   "execution_count": 3,
   "id": "f92b8ff3",
   "metadata": {
    "slideshow": {
     "slide_type": "fragment"
    }
   },
   "outputs": [
    {
     "data": {
      "text/plain": [
       "['C:\\\\Users\\\\39324\\\\OneDrive\\\\Documenti\\\\PR206DATA\\\\Ebola2022-03-10.csv',\n",
       " 'C:\\\\Users\\\\39324\\\\OneDrive\\\\Documenti\\\\PR206DATA\\\\Ebola2022-03-17.csv',\n",
       " 'C:\\\\Users\\\\39324\\\\OneDrive\\\\Documenti\\\\PR206DATA\\\\Ebola2022-03-24.csv',\n",
       " 'C:\\\\Users\\\\39324\\\\OneDrive\\\\Documenti\\\\PR206DATA\\\\Ebola2022-03-31.csv',\n",
       " 'C:\\\\Users\\\\39324\\\\OneDrive\\\\Documenti\\\\PR206DATA\\\\Ebola2022-04-07.csv',\n",
       " 'C:\\\\Users\\\\39324\\\\OneDrive\\\\Documenti\\\\PR206DATA\\\\Ebola2022-04-14.csv',\n",
       " 'C:\\\\Users\\\\39324\\\\OneDrive\\\\Documenti\\\\PR206DATA\\\\Ebola2022-04-21.csv',\n",
       " 'C:\\\\Users\\\\39324\\\\OneDrive\\\\Documenti\\\\PR206DATA\\\\Ebola2022-04-28.csv',\n",
       " 'C:\\\\Users\\\\39324\\\\OneDrive\\\\Documenti\\\\PR206DATA\\\\Ebola2022-05-05.csv',\n",
       " 'C:\\\\Users\\\\39324\\\\OneDrive\\\\Documenti\\\\PR206DATA\\\\Ebola2022-05-12.csv',\n",
       " 'C:\\\\Users\\\\39324\\\\OneDrive\\\\Documenti\\\\PR206DATA\\\\Ebola2022-05-19.csv',\n",
       " 'C:\\\\Users\\\\39324\\\\OneDrive\\\\Documenti\\\\PR206DATA\\\\Ebola2022-05-26.csv',\n",
       " 'C:\\\\Users\\\\39324\\\\OneDrive\\\\Documenti\\\\PR206DATA\\\\Ebola2022-06-02.csv',\n",
       " 'C:\\\\Users\\\\39324\\\\OneDrive\\\\Documenti\\\\PR206DATA\\\\Ebola2022-06-09.csv',\n",
       " 'C:\\\\Users\\\\39324\\\\OneDrive\\\\Documenti\\\\PR206DATA\\\\Ebola2022-06-16.csv',\n",
       " 'C:\\\\Users\\\\39324\\\\OneDrive\\\\Documenti\\\\PR206DATA\\\\Ebola2022-06-23.csv',\n",
       " 'C:\\\\Users\\\\39324\\\\OneDrive\\\\Documenti\\\\PR206DATA\\\\Ebola2022-06-30.csv',\n",
       " 'C:\\\\Users\\\\39324\\\\OneDrive\\\\Documenti\\\\PR206DATA\\\\Ebola2022-07-07.csv',\n",
       " 'C:\\\\Users\\\\39324\\\\OneDrive\\\\Documenti\\\\PR206DATA\\\\Ebola2022-07-14.csv',\n",
       " 'C:\\\\Users\\\\39324\\\\OneDrive\\\\Documenti\\\\PR206DATA\\\\Ebola2022-07-21.csv',\n",
       " 'C:\\\\Users\\\\39324\\\\OneDrive\\\\Documenti\\\\PR206DATA\\\\Ebola2022-07-28.csv',\n",
       " 'C:\\\\Users\\\\39324\\\\OneDrive\\\\Documenti\\\\PR206DATA\\\\Ebola2022-08-04.csv',\n",
       " 'C:\\\\Users\\\\39324\\\\OneDrive\\\\Documenti\\\\PR206DATA\\\\Ebola2022-08-11.csv',\n",
       " 'C:\\\\Users\\\\39324\\\\OneDrive\\\\Documenti\\\\PR206DATA\\\\Ebola2022-08-18.csv',\n",
       " 'C:\\\\Users\\\\39324\\\\OneDrive\\\\Documenti\\\\PR206DATA\\\\Ebola2022-08-25.csv',\n",
       " 'C:\\\\Users\\\\39324\\\\OneDrive\\\\Documenti\\\\PR206DATA\\\\Ebola2022-09-01.csv',\n",
       " 'C:\\\\Users\\\\39324\\\\OneDrive\\\\Documenti\\\\PR206DATA\\\\Ebola2022-09-08.csv',\n",
       " 'C:\\\\Users\\\\39324\\\\OneDrive\\\\Documenti\\\\PR206DATA\\\\Ebola2022-09-15.csv',\n",
       " 'C:\\\\Users\\\\39324\\\\OneDrive\\\\Documenti\\\\PR206DATA\\\\Ebola2022-09-22.csv',\n",
       " 'C:\\\\Users\\\\39324\\\\OneDrive\\\\Documenti\\\\PR206DATA\\\\Ebola2022-09-29.csv',\n",
       " 'C:\\\\Users\\\\39324\\\\OneDrive\\\\Documenti\\\\PR206DATA\\\\Ebola2022-10-06.csv',\n",
       " 'C:\\\\Users\\\\39324\\\\OneDrive\\\\Documenti\\\\PR206DATA\\\\Ebola2022-10-13.csv',\n",
       " 'C:\\\\Users\\\\39324\\\\OneDrive\\\\Documenti\\\\PR206DATA\\\\Ebola2022-10-20.csv',\n",
       " 'C:\\\\Users\\\\39324\\\\OneDrive\\\\Documenti\\\\PR206DATA\\\\Ebola2022-10-27.csv',\n",
       " 'C:\\\\Users\\\\39324\\\\OneDrive\\\\Documenti\\\\PR206DATA\\\\Ebola2022-11-03.csv',\n",
       " 'C:\\\\Users\\\\39324\\\\OneDrive\\\\Documenti\\\\PR206DATA\\\\Ebola2022-11-10.csv',\n",
       " 'C:\\\\Users\\\\39324\\\\OneDrive\\\\Documenti\\\\PR206DATA\\\\Ebola2022-11-17.csv',\n",
       " 'C:\\\\Users\\\\39324\\\\OneDrive\\\\Documenti\\\\PR206DATA\\\\Ebola2022-11-24.csv']"
      ]
     },
     "execution_count": 3,
     "metadata": {},
     "output_type": "execute_result"
    }
   ],
   "source": [
    "glob.glob(r'C:\\Users\\39324\\OneDrive\\Documenti\\PR206DATA\\Ebola*.csv')"
   ]
  },
  {
   "cell_type": "markdown",
   "id": "7a7c8221",
   "metadata": {
    "slideshow": {
     "slide_type": "slide"
    }
   },
   "source": [
    "Then a list has been created and to this list I have appended all the files read "
   ]
  },
  {
   "cell_type": "code",
   "execution_count": 3,
   "id": "8452ee71",
   "metadata": {
    "slideshow": {
     "slide_type": "fragment"
    }
   },
   "outputs": [
    {
     "name": "stdout",
     "output_type": "stream",
     "text": [
      "Loading C:\\Users\\39324\\OneDrive\\Documenti\\PR206DATA\\Ebola2022-03-10.csv\n",
      "Loading C:\\Users\\39324\\OneDrive\\Documenti\\PR206DATA\\Ebola2022-03-17.csv\n",
      "Loading C:\\Users\\39324\\OneDrive\\Documenti\\PR206DATA\\Ebola2022-03-24.csv\n",
      "Loading C:\\Users\\39324\\OneDrive\\Documenti\\PR206DATA\\Ebola2022-03-31.csv\n",
      "Loading C:\\Users\\39324\\OneDrive\\Documenti\\PR206DATA\\Ebola2022-04-07.csv\n",
      "Loading C:\\Users\\39324\\OneDrive\\Documenti\\PR206DATA\\Ebola2022-04-14.csv\n",
      "Loading C:\\Users\\39324\\OneDrive\\Documenti\\PR206DATA\\Ebola2022-04-21.csv\n",
      "Loading C:\\Users\\39324\\OneDrive\\Documenti\\PR206DATA\\Ebola2022-04-28.csv\n",
      "Loading C:\\Users\\39324\\OneDrive\\Documenti\\PR206DATA\\Ebola2022-05-05.csv\n",
      "Loading C:\\Users\\39324\\OneDrive\\Documenti\\PR206DATA\\Ebola2022-05-12.csv\n",
      "Loading C:\\Users\\39324\\OneDrive\\Documenti\\PR206DATA\\Ebola2022-05-19.csv\n",
      "Loading C:\\Users\\39324\\OneDrive\\Documenti\\PR206DATA\\Ebola2022-05-26.csv\n",
      "Loading C:\\Users\\39324\\OneDrive\\Documenti\\PR206DATA\\Ebola2022-06-02.csv\n",
      "Loading C:\\Users\\39324\\OneDrive\\Documenti\\PR206DATA\\Ebola2022-06-09.csv\n",
      "Loading C:\\Users\\39324\\OneDrive\\Documenti\\PR206DATA\\Ebola2022-06-16.csv\n",
      "Loading C:\\Users\\39324\\OneDrive\\Documenti\\PR206DATA\\Ebola2022-06-23.csv\n",
      "Loading C:\\Users\\39324\\OneDrive\\Documenti\\PR206DATA\\Ebola2022-06-30.csv\n",
      "Loading C:\\Users\\39324\\OneDrive\\Documenti\\PR206DATA\\Ebola2022-07-07.csv\n",
      "Loading C:\\Users\\39324\\OneDrive\\Documenti\\PR206DATA\\Ebola2022-07-14.csv\n",
      "Loading C:\\Users\\39324\\OneDrive\\Documenti\\PR206DATA\\Ebola2022-07-21.csv\n",
      "Loading C:\\Users\\39324\\OneDrive\\Documenti\\PR206DATA\\Ebola2022-07-28.csv\n",
      "Loading C:\\Users\\39324\\OneDrive\\Documenti\\PR206DATA\\Ebola2022-08-04.csv\n",
      "Loading C:\\Users\\39324\\OneDrive\\Documenti\\PR206DATA\\Ebola2022-08-11.csv\n",
      "Loading C:\\Users\\39324\\OneDrive\\Documenti\\PR206DATA\\Ebola2022-08-18.csv\n",
      "Loading C:\\Users\\39324\\OneDrive\\Documenti\\PR206DATA\\Ebola2022-08-25.csv\n",
      "Loading C:\\Users\\39324\\OneDrive\\Documenti\\PR206DATA\\Ebola2022-09-01.csv\n",
      "Loading C:\\Users\\39324\\OneDrive\\Documenti\\PR206DATA\\Ebola2022-09-08.csv\n",
      "Loading C:\\Users\\39324\\OneDrive\\Documenti\\PR206DATA\\Ebola2022-09-15.csv\n",
      "Loading C:\\Users\\39324\\OneDrive\\Documenti\\PR206DATA\\Ebola2022-09-22.csv\n",
      "Loading C:\\Users\\39324\\OneDrive\\Documenti\\PR206DATA\\Ebola2022-09-29.csv\n",
      "Loading C:\\Users\\39324\\OneDrive\\Documenti\\PR206DATA\\Ebola2022-10-06.csv\n",
      "Loading C:\\Users\\39324\\OneDrive\\Documenti\\PR206DATA\\Ebola2022-10-13.csv\n",
      "Loading C:\\Users\\39324\\OneDrive\\Documenti\\PR206DATA\\Ebola2022-10-20.csv\n",
      "Loading C:\\Users\\39324\\OneDrive\\Documenti\\PR206DATA\\Ebola2022-10-27.csv\n",
      "Loading C:\\Users\\39324\\OneDrive\\Documenti\\PR206DATA\\Ebola2022-11-03.csv\n",
      "Loading C:\\Users\\39324\\OneDrive\\Documenti\\PR206DATA\\Ebola2022-11-10.csv\n",
      "Loading C:\\Users\\39324\\OneDrive\\Documenti\\PR206DATA\\Ebola2022-11-17.csv\n",
      "Loading C:\\Users\\39324\\OneDrive\\Documenti\\PR206DATA\\Ebola2022-11-24.csv\n"
     ]
    }
   ],
   "source": [
    "df_ls = []\n",
    "for filei in glob.glob(r'C:\\Users\\39324\\OneDrive\\Documenti\\PR206DATA\\Ebola*.csv'):\n",
    "    print(f'Loading {filei}')\n",
    "    dfi = pd.read_csv(filei)\n",
    "    df_ls.append(dfi)"
   ]
  },
  {
   "cell_type": "markdown",
   "id": "f20b0c6f",
   "metadata": {
    "slideshow": {
     "slide_type": "slide"
    }
   },
   "source": [
    "The number of read files is 38, the dataframe containing all the tweets is obtained by concatenating the dataframes read in the list"
   ]
  },
  {
   "cell_type": "code",
   "execution_count": 4,
   "id": "59b5a72e",
   "metadata": {
    "slideshow": {
     "slide_type": "fragment"
    }
   },
   "outputs": [
    {
     "data": {
      "text/plain": [
       "38"
      ]
     },
     "execution_count": 4,
     "metadata": {},
     "output_type": "execute_result"
    }
   ],
   "source": [
    "len(df_ls)"
   ]
  },
  {
   "cell_type": "code",
   "execution_count": 20,
   "id": "7e079ae8",
   "metadata": {
    "slideshow": {
     "slide_type": "fragment"
    }
   },
   "outputs": [
    {
     "data": {
      "text/plain": [
       "(93971, 9)"
      ]
     },
     "execution_count": 20,
     "metadata": {},
     "output_type": "execute_result"
    }
   ],
   "source": [
    "df = pd.concat(df_ls,ignore_index=True)\n",
    "df.shape"
   ]
  },
  {
   "cell_type": "code",
   "execution_count": 21,
   "id": "296a7b5d",
   "metadata": {
    "slideshow": {
     "slide_type": "fragment"
    }
   },
   "outputs": [
    {
     "data": {
      "text/html": [
       "<div>\n",
       "<style scoped>\n",
       "    .dataframe tbody tr th:only-of-type {\n",
       "        vertical-align: middle;\n",
       "    }\n",
       "\n",
       "    .dataframe tbody tr th {\n",
       "        vertical-align: top;\n",
       "    }\n",
       "\n",
       "    .dataframe thead th {\n",
       "        text-align: right;\n",
       "    }\n",
       "</style>\n",
       "<table border=\"1\" class=\"dataframe\">\n",
       "  <thead>\n",
       "    <tr style=\"text-align: right;\">\n",
       "      <th></th>\n",
       "      <th>Datetime</th>\n",
       "      <th>Tweet Id</th>\n",
       "      <th>original_text</th>\n",
       "      <th>geo</th>\n",
       "      <th>retweet_count</th>\n",
       "      <th>reply_count</th>\n",
       "      <th>like_count</th>\n",
       "      <th>author_id</th>\n",
       "      <th>context_annotations</th>\n",
       "    </tr>\n",
       "  </thead>\n",
       "  <tbody>\n",
       "    <tr>\n",
       "      <th>0</th>\n",
       "      <td>2022-03-10 14:41:20+00:00</td>\n",
       "      <td>1501931212775952393</td>\n",
       "      <td>September 16, 2019 – A gas explosion in Koltso...</td>\n",
       "      <td>NaN</td>\n",
       "      <td>1</td>\n",
       "      <td>0</td>\n",
       "      <td>0</td>\n",
       "      <td>NaN</td>\n",
       "      <td>NaN</td>\n",
       "    </tr>\n",
       "    <tr>\n",
       "      <th>1</th>\n",
       "      <td>2022-03-10 14:40:26+00:00</td>\n",
       "      <td>1501930987596304393</td>\n",
       "      <td>At the high-containment labs identified by USA...</td>\n",
       "      <td>NaN</td>\n",
       "      <td>0</td>\n",
       "      <td>0</td>\n",
       "      <td>0</td>\n",
       "      <td>NaN</td>\n",
       "      <td>NaN</td>\n",
       "    </tr>\n",
       "    <tr>\n",
       "      <th>2</th>\n",
       "      <td>2022-03-10 14:40:21+00:00</td>\n",
       "      <td>1501930967639859209</td>\n",
       "      <td>Don't be surprised if we find out that Ebola w...</td>\n",
       "      <td>NaN</td>\n",
       "      <td>0</td>\n",
       "      <td>0</td>\n",
       "      <td>0</td>\n",
       "      <td>NaN</td>\n",
       "      <td>NaN</td>\n",
       "    </tr>\n",
       "    <tr>\n",
       "      <th>3</th>\n",
       "      <td>2022-03-10 14:33:59+00:00</td>\n",
       "      <td>1501929362005757963</td>\n",
       "      <td>At the high-containment labs in US, identified...</td>\n",
       "      <td>NaN</td>\n",
       "      <td>0</td>\n",
       "      <td>1</td>\n",
       "      <td>0</td>\n",
       "      <td>NaN</td>\n",
       "      <td>NaN</td>\n",
       "    </tr>\n",
       "    <tr>\n",
       "      <th>4</th>\n",
       "      <td>2022-03-10 14:32:36+00:00</td>\n",
       "      <td>1501929016848453641</td>\n",
       "      <td>Coronavirus🦠🧬 gone disappear just like swine f...</td>\n",
       "      <td>NaN</td>\n",
       "      <td>0</td>\n",
       "      <td>0</td>\n",
       "      <td>1</td>\n",
       "      <td>NaN</td>\n",
       "      <td>NaN</td>\n",
       "    </tr>\n",
       "    <tr>\n",
       "      <th>...</th>\n",
       "      <td>...</td>\n",
       "      <td>...</td>\n",
       "      <td>...</td>\n",
       "      <td>...</td>\n",
       "      <td>...</td>\n",
       "      <td>...</td>\n",
       "      <td>...</td>\n",
       "      <td>...</td>\n",
       "      <td>...</td>\n",
       "    </tr>\n",
       "    <tr>\n",
       "      <th>93966</th>\n",
       "      <td>2022-11-17 14:08:43+00:00</td>\n",
       "      <td>1593244748219027457</td>\n",
       "      <td>Pharmalittle: Big PBM keeps AbbVie's Humira on...</td>\n",
       "      <td>NaN</td>\n",
       "      <td>0</td>\n",
       "      <td>0</td>\n",
       "      <td>0</td>\n",
       "      <td>1.271686e+18</td>\n",
       "      <td>[{'domain': {'id': '30', 'name': 'Entities [En...</td>\n",
       "    </tr>\n",
       "    <tr>\n",
       "      <th>93967</th>\n",
       "      <td>2022-11-17 14:04:52+00:00</td>\n",
       "      <td>1593243778479181837</td>\n",
       "      <td>Samuel lives in one of two communities at the ...</td>\n",
       "      <td>NaN</td>\n",
       "      <td>0</td>\n",
       "      <td>0</td>\n",
       "      <td>2</td>\n",
       "      <td>7.867640e+05</td>\n",
       "      <td>[{'domain': {'id': '46', 'name': 'Business Tax...</td>\n",
       "    </tr>\n",
       "    <tr>\n",
       "      <th>93968</th>\n",
       "      <td>2022-11-17 14:02:42+00:00</td>\n",
       "      <td>1593243233252876290</td>\n",
       "      <td>Pharmalot.. Pharmalittle.. Good Morning: Big P...</td>\n",
       "      <td>NaN</td>\n",
       "      <td>0</td>\n",
       "      <td>0</td>\n",
       "      <td>1</td>\n",
       "      <td>1.317162e+07</td>\n",
       "      <td>[{'domain': {'id': '46', 'name': 'Business Tax...</td>\n",
       "    </tr>\n",
       "    <tr>\n",
       "      <th>93969</th>\n",
       "      <td>2022-11-17 14:01:36+00:00</td>\n",
       "      <td>1593242958241095680</td>\n",
       "      <td>#Ebola is active in #Kampala, Uganda's capital...</td>\n",
       "      <td>NaN</td>\n",
       "      <td>0</td>\n",
       "      <td>0</td>\n",
       "      <td>2</td>\n",
       "      <td>2.598335e+07</td>\n",
       "      <td>[]</td>\n",
       "    </tr>\n",
       "    <tr>\n",
       "      <th>93970</th>\n",
       "      <td>2022-11-17 14:01:25+00:00</td>\n",
       "      <td>1593242911214546947</td>\n",
       "      <td>She got Ebola if her bra and panties don't match.</td>\n",
       "      <td>NaN</td>\n",
       "      <td>0</td>\n",
       "      <td>0</td>\n",
       "      <td>0</td>\n",
       "      <td>1.281479e+18</td>\n",
       "      <td>[]</td>\n",
       "    </tr>\n",
       "  </tbody>\n",
       "</table>\n",
       "<p>93971 rows × 9 columns</p>\n",
       "</div>"
      ],
      "text/plain": [
       "                        Datetime             Tweet Id  \\\n",
       "0      2022-03-10 14:41:20+00:00  1501931212775952393   \n",
       "1      2022-03-10 14:40:26+00:00  1501930987596304393   \n",
       "2      2022-03-10 14:40:21+00:00  1501930967639859209   \n",
       "3      2022-03-10 14:33:59+00:00  1501929362005757963   \n",
       "4      2022-03-10 14:32:36+00:00  1501929016848453641   \n",
       "...                          ...                  ...   \n",
       "93966  2022-11-17 14:08:43+00:00  1593244748219027457   \n",
       "93967  2022-11-17 14:04:52+00:00  1593243778479181837   \n",
       "93968  2022-11-17 14:02:42+00:00  1593243233252876290   \n",
       "93969  2022-11-17 14:01:36+00:00  1593242958241095680   \n",
       "93970  2022-11-17 14:01:25+00:00  1593242911214546947   \n",
       "\n",
       "                                           original_text  geo  retweet_count  \\\n",
       "0      September 16, 2019 – A gas explosion in Koltso...  NaN              1   \n",
       "1      At the high-containment labs identified by USA...  NaN              0   \n",
       "2      Don't be surprised if we find out that Ebola w...  NaN              0   \n",
       "3      At the high-containment labs in US, identified...  NaN              0   \n",
       "4      Coronavirus🦠🧬 gone disappear just like swine f...  NaN              0   \n",
       "...                                                  ...  ...            ...   \n",
       "93966  Pharmalittle: Big PBM keeps AbbVie's Humira on...  NaN              0   \n",
       "93967  Samuel lives in one of two communities at the ...  NaN              0   \n",
       "93968  Pharmalot.. Pharmalittle.. Good Morning: Big P...  NaN              0   \n",
       "93969  #Ebola is active in #Kampala, Uganda's capital...  NaN              0   \n",
       "93970  She got Ebola if her bra and panties don't match.  NaN              0   \n",
       "\n",
       "       reply_count  like_count     author_id  \\\n",
       "0                0           0           NaN   \n",
       "1                0           0           NaN   \n",
       "2                0           0           NaN   \n",
       "3                1           0           NaN   \n",
       "4                0           1           NaN   \n",
       "...            ...         ...           ...   \n",
       "93966            0           0  1.271686e+18   \n",
       "93967            0           2  7.867640e+05   \n",
       "93968            0           1  1.317162e+07   \n",
       "93969            0           2  2.598335e+07   \n",
       "93970            0           0  1.281479e+18   \n",
       "\n",
       "                                     context_annotations  \n",
       "0                                                    NaN  \n",
       "1                                                    NaN  \n",
       "2                                                    NaN  \n",
       "3                                                    NaN  \n",
       "4                                                    NaN  \n",
       "...                                                  ...  \n",
       "93966  [{'domain': {'id': '30', 'name': 'Entities [En...  \n",
       "93967  [{'domain': {'id': '46', 'name': 'Business Tax...  \n",
       "93968  [{'domain': {'id': '46', 'name': 'Business Tax...  \n",
       "93969                                                 []  \n",
       "93970                                                 []  \n",
       "\n",
       "[93971 rows x 9 columns]"
      ]
     },
     "execution_count": 21,
     "metadata": {},
     "output_type": "execute_result"
    }
   ],
   "source": [
    "df"
   ]
  },
  {
   "cell_type": "markdown",
   "id": "8eefb59e",
   "metadata": {
    "slideshow": {
     "slide_type": "slide"
    }
   },
   "source": [
    "The dataframe has 9 columns: the datetime, the ID, the content, the , the number of retweets, the number of replies, the number of likes, the ID of the author of the tweet, the context annotations"
   ]
  },
  {
   "cell_type": "code",
   "execution_count": 22,
   "id": "da543756",
   "metadata": {
    "slideshow": {
     "slide_type": "fragment"
    }
   },
   "outputs": [
    {
     "name": "stdout",
     "output_type": "stream",
     "text": [
      "<class 'pandas.core.frame.DataFrame'>\n",
      "RangeIndex: 93971 entries, 0 to 93970\n",
      "Data columns (total 9 columns):\n",
      " #   Column               Non-Null Count  Dtype  \n",
      "---  ------               --------------  -----  \n",
      " 0   Datetime             93971 non-null  object \n",
      " 1   Tweet Id             93971 non-null  int64  \n",
      " 2   original_text        93971 non-null  object \n",
      " 3   geo                  1610 non-null   object \n",
      " 4   retweet_count        93971 non-null  int64  \n",
      " 5   reply_count          93971 non-null  int64  \n",
      " 6   like_count           93971 non-null  int64  \n",
      " 7   author_id            92968 non-null  float64\n",
      " 8   context_annotations  92968 non-null  object \n",
      "dtypes: float64(1), int64(4), object(4)\n",
      "memory usage: 6.5+ MB\n"
     ]
    }
   ],
   "source": [
    "df.info()"
   ]
  },
  {
   "cell_type": "markdown",
   "id": "77b05cc7",
   "metadata": {
    "slideshow": {
     "slide_type": "slide"
    }
   },
   "source": [
    "TWEETS WITH MORE RETWEETS, REPLIES, LIKES"
   ]
  },
  {
   "cell_type": "markdown",
   "id": "e2dbbd87",
   "metadata": {
    "slideshow": {
     "slide_type": "fragment"
    }
   },
   "source": [
    "to see up to 400 characters the following option is set"
   ]
  },
  {
   "cell_type": "code",
   "execution_count": 24,
   "id": "2a16dac6",
   "metadata": {
    "slideshow": {
     "slide_type": "fragment"
    }
   },
   "outputs": [],
   "source": [
    "pd.options.display.max_colwidth = 400"
   ]
  },
  {
   "cell_type": "code",
   "execution_count": 25,
   "id": "712262d5",
   "metadata": {
    "slideshow": {
     "slide_type": "subslide"
    }
   },
   "outputs": [
    {
     "data": {
      "text/html": [
       "<div>\n",
       "<style scoped>\n",
       "    .dataframe tbody tr th:only-of-type {\n",
       "        vertical-align: middle;\n",
       "    }\n",
       "\n",
       "    .dataframe tbody tr th {\n",
       "        vertical-align: top;\n",
       "    }\n",
       "\n",
       "    .dataframe thead th {\n",
       "        text-align: right;\n",
       "    }\n",
       "</style>\n",
       "<table border=\"1\" class=\"dataframe\">\n",
       "  <thead>\n",
       "    <tr style=\"text-align: right;\">\n",
       "      <th></th>\n",
       "      <th>original_text</th>\n",
       "      <th>retweet_count</th>\n",
       "    </tr>\n",
       "  </thead>\n",
       "  <tbody>\n",
       "    <tr>\n",
       "      <th>34541</th>\n",
       "      <td>My kids are never going to hear the end of it, I lived through two recessions, Ebola, 2011 riots, covid, monkey pox, queens death, ww3, the storming of the capitol, 3 Tory mps quitting, brexit . Chai</td>\n",
       "      <td>11047</td>\n",
       "    </tr>\n",
       "    <tr>\n",
       "      <th>17865</th>\n",
       "      <td>2 died of Ebola: They said Obama should resign.\\n\\n4 died in Benghazi: They had Hillary testify for 11 hours, held 33 hearings and launched a multiyear probe.\\n\\n1,035,031 Covid deaths plus an armed insurrection thanks to Trump’s malevolence: They cheered and want America to move on.</td>\n",
       "      <td>10797</td>\n",
       "    </tr>\n",
       "    <tr>\n",
       "      <th>28611</th>\n",
       "      <td>Nurse Justina Obi Ejelonu.\\n\\nToday, we remember Nurse Justina Ejelonu, who died on this day 8 years ago on the frontline caring for the man with the Ebola virus. Since her death, history has not been kind to her.\\n\\nNo immortalization!\\n\\nLet's Retweet in respect to the fallen patriot https://t.co/hqeKTQaFfP</td>\n",
       "      <td>5766</td>\n",
       "    </tr>\n",
       "    <tr>\n",
       "      <th>50970</th>\n",
       "      <td>I regret to announce that we have lost our first doctor, Dr Mohammed Ali, a Tanzanian National, 37yr old Male today at 3:15am. He tested positive of Ebola on Sept 26, 2022 and died while receiving treatment at Fort Portal RRH, Isolation facility ( JMedic). https://t.co/NoqEUtqKcM</td>\n",
       "      <td>3842</td>\n",
       "    </tr>\n",
       "    <tr>\n",
       "      <th>79516</th>\n",
       "      <td>“Remdemsvir (the only drug Fauci would approve) is a toxic drug…they tried it for Ebola…but actually had to abandon the study…because of the increase risk of death…” -Dr. Paul Marik https://t.co/xr4zPoH9pC</td>\n",
       "      <td>3659</td>\n",
       "    </tr>\n",
       "    <tr>\n",
       "      <th>87135</th>\n",
       "      <td>Ebola victim who was safely buried in Uganda was exhumed by family members to perform religious rituals. 10 of those relatives have since died - president</td>\n",
       "      <td>2633</td>\n",
       "    </tr>\n",
       "    <tr>\n",
       "      <th>755</th>\n",
       "      <td>I remember when Goodluck Jonathan's government donated $500,000 to the Liberian govt's Ebola containment efforts in 2014. Tolu Ogunlesi came here to scream that this was reckless mismanagement of kinikan kinikan...\\n\\nToday oga is defending a $1 million donation to the TALIBAN😊 https://t.co/4pJWASJzdv</td>\n",
       "      <td>2330</td>\n",
       "    </tr>\n",
       "    <tr>\n",
       "      <th>90835</th>\n",
       "      <td>Dr. Fauci is a pillar of the public health community. From HIV and AIDS to Ebola to COVID, he has kept the American public informed and prepared through multiple crises. It was an honor having him in the briefing room to remind Americans on the importance of getting vaccinated. https://t.co/O0qXuNpY11</td>\n",
       "      <td>2271</td>\n",
       "    </tr>\n",
       "    <tr>\n",
       "      <th>84710</th>\n",
       "      <td>Regarding the Ebola situation, first of all, there will be NO LOCKDOWN. Therefore, people should go ahead and concentrate on their work without worry. However,  we should be more vigilant and observe the SOPs put in place to control the Ebola spread.</td>\n",
       "      <td>2253</td>\n",
       "    </tr>\n",
       "    <tr>\n",
       "      <th>26532</th>\n",
       "      <td>APC have balls. Their youth leader said they want to Rescue Nigeria from Nigeria. Then he said “Vote for Bola.” I almost read that as “Ebola.” To add salt to injury, he used Tinubu’s younger photo. They want to dissociate BAT from Buhari? Can a problem be part of the solution?🤣</td>\n",
       "      <td>2104</td>\n",
       "    </tr>\n",
       "  </tbody>\n",
       "</table>\n",
       "</div>"
      ],
      "text/plain": [
       "                                                                                                                                                                                                                                                                                                                original_text  \\\n",
       "34541                                                                                                                 My kids are never going to hear the end of it, I lived through two recessions, Ebola, 2011 riots, covid, monkey pox, queens death, ww3, the storming of the capitol, 3 Tory mps quitting, brexit . Chai   \n",
       "17865                            2 died of Ebola: They said Obama should resign.\\n\\n4 died in Benghazi: They had Hillary testify for 11 hours, held 33 hearings and launched a multiyear probe.\\n\\n1,035,031 Covid deaths plus an armed insurrection thanks to Trump’s malevolence: They cheered and want America to move on.   \n",
       "28611  Nurse Justina Obi Ejelonu.\\n\\nToday, we remember Nurse Justina Ejelonu, who died on this day 8 years ago on the frontline caring for the man with the Ebola virus. Since her death, history has not been kind to her.\\n\\nNo immortalization!\\n\\nLet's Retweet in respect to the fallen patriot https://t.co/hqeKTQaFfP   \n",
       "50970                                I regret to announce that we have lost our first doctor, Dr Mohammed Ali, a Tanzanian National, 37yr old Male today at 3:15am. He tested positive of Ebola on Sept 26, 2022 and died while receiving treatment at Fort Portal RRH, Isolation facility ( JMedic). https://t.co/NoqEUtqKcM   \n",
       "79516                                                                                                           “Remdemsvir (the only drug Fauci would approve) is a toxic drug…they tried it for Ebola…but actually had to abandon the study…because of the increase risk of death…” -Dr. Paul Marik https://t.co/xr4zPoH9pC   \n",
       "87135                                                                                                                                                              Ebola victim who was safely buried in Uganda was exhumed by family members to perform religious rituals. 10 of those relatives have since died - president   \n",
       "755            I remember when Goodluck Jonathan's government donated $500,000 to the Liberian govt's Ebola containment efforts in 2014. Tolu Ogunlesi came here to scream that this was reckless mismanagement of kinikan kinikan...\\n\\nToday oga is defending a $1 million donation to the TALIBAN😊 https://t.co/4pJWASJzdv   \n",
       "90835          Dr. Fauci is a pillar of the public health community. From HIV and AIDS to Ebola to COVID, he has kept the American public informed and prepared through multiple crises. It was an honor having him in the briefing room to remind Americans on the importance of getting vaccinated. https://t.co/O0qXuNpY11   \n",
       "84710                                                              Regarding the Ebola situation, first of all, there will be NO LOCKDOWN. Therefore, people should go ahead and concentrate on their work without worry. However,  we should be more vigilant and observe the SOPs put in place to control the Ebola spread.   \n",
       "26532                                  APC have balls. Their youth leader said they want to Rescue Nigeria from Nigeria. Then he said “Vote for Bola.” I almost read that as “Ebola.” To add salt to injury, he used Tinubu’s younger photo. They want to dissociate BAT from Buhari? Can a problem be part of the solution?🤣   \n",
       "\n",
       "       retweet_count  \n",
       "34541          11047  \n",
       "17865          10797  \n",
       "28611           5766  \n",
       "50970           3842  \n",
       "79516           3659  \n",
       "87135           2633  \n",
       "755             2330  \n",
       "90835           2271  \n",
       "84710           2253  \n",
       "26532           2104  "
      ]
     },
     "execution_count": 25,
     "metadata": {},
     "output_type": "execute_result"
    }
   ],
   "source": [
    "df_sorted_retweets = df.sort_values(by='retweet_count', ascending=False)\n",
    "top_10_retweets = df_sorted_retweets.head(10)\n",
    "top_10_retweets[['original_text','retweet_count']]"
   ]
  },
  {
   "cell_type": "code",
   "execution_count": 26,
   "id": "3e843e39",
   "metadata": {
    "slideshow": {
     "slide_type": "subslide"
    }
   },
   "outputs": [
    {
     "data": {
      "text/html": [
       "<div>\n",
       "<style scoped>\n",
       "    .dataframe tbody tr th:only-of-type {\n",
       "        vertical-align: middle;\n",
       "    }\n",
       "\n",
       "    .dataframe tbody tr th {\n",
       "        vertical-align: top;\n",
       "    }\n",
       "\n",
       "    .dataframe thead th {\n",
       "        text-align: right;\n",
       "    }\n",
       "</style>\n",
       "<table border=\"1\" class=\"dataframe\">\n",
       "  <thead>\n",
       "    <tr style=\"text-align: right;\">\n",
       "      <th></th>\n",
       "      <th>original_text</th>\n",
       "      <th>reply_count</th>\n",
       "    </tr>\n",
       "  </thead>\n",
       "  <tbody>\n",
       "    <tr>\n",
       "      <th>90835</th>\n",
       "      <td>Dr. Fauci is a pillar of the public health community. From HIV and AIDS to Ebola to COVID, he has kept the American public informed and prepared through multiple crises. It was an honor having him in the briefing room to remind Americans on the importance of getting vaccinated. https://t.co/O0qXuNpY11</td>\n",
       "      <td>6226</td>\n",
       "    </tr>\n",
       "    <tr>\n",
       "      <th>11204</th>\n",
       "      <td>Ian Blackford couldn’t empty a room any quicker if he was a known carrier of ebola. It’s an astonishing, unparalleled talent \\n\\n https://t.co/4iurrMPtTM</td>\n",
       "      <td>1809</td>\n",
       "    </tr>\n",
       "    <tr>\n",
       "      <th>84710</th>\n",
       "      <td>Regarding the Ebola situation, first of all, there will be NO LOCKDOWN. Therefore, people should go ahead and concentrate on their work without worry. However,  we should be more vigilant and observe the SOPs put in place to control the Ebola spread.</td>\n",
       "      <td>1628</td>\n",
       "    </tr>\n",
       "    <tr>\n",
       "      <th>50970</th>\n",
       "      <td>I regret to announce that we have lost our first doctor, Dr Mohammed Ali, a Tanzanian National, 37yr old Male today at 3:15am. He tested positive of Ebola on Sept 26, 2022 and died while receiving treatment at Fort Portal RRH, Isolation facility ( JMedic). https://t.co/NoqEUtqKcM</td>\n",
       "      <td>1471</td>\n",
       "    </tr>\n",
       "    <tr>\n",
       "      <th>87707</th>\n",
       "      <td>I will address the nation today from Nakasero State Lodge at 8:00pm on the current status of Ebola in the country. Tune in for this address on TV and Radio. I thank you. https://t.co/vc718Zq0YE</td>\n",
       "      <td>1077</td>\n",
       "    </tr>\n",
       "    <tr>\n",
       "      <th>91959</th>\n",
       "      <td>Today regime officials graced a marathon with thousands of people. Robina Nabbanja, Diana Atwiine from the Ministry of Health, etc! The same regime has kept the people of Mubende and Kassanda under a lockdown to apparently control ebola and closed schools two weeks before time! https://t.co/xuM677mGis</td>\n",
       "      <td>987</td>\n",
       "    </tr>\n",
       "    <tr>\n",
       "      <th>44423</th>\n",
       "      <td>Health authorities in Uganda have confirmed the death of three more Ebola patients in the country https://t.co/tfNMFutbwz https://t.co/WJRC3Fj8u1</td>\n",
       "      <td>720</td>\n",
       "    </tr>\n",
       "    <tr>\n",
       "      <th>47375</th>\n",
       "      <td>I regret to announce the passing of another Health worker, Ms. Nabisubi Margaret, an anesthetic officer. The 58 year old succumbed to Ebola at 4.33am this morning at Fort Portal Hospital (JMedic) after battling the disease for 17 days.</td>\n",
       "      <td>676</td>\n",
       "    </tr>\n",
       "    <tr>\n",
       "      <th>44061</th>\n",
       "      <td>❗ An outbreak of #Ebola virus 🦠 has been declared in 🇺🇬 after a case was confirmed in Mubende district, in the centre of the country, according to @who.\\n\\nIt is the first time in more than a decade that the Sudan strain has been found in Uganda.\\n\\n👉 https://t.co/1pDOOUbVGQ https://t.co/0XUsN6gwkc</td>\n",
       "      <td>630</td>\n",
       "    </tr>\n",
       "    <tr>\n",
       "      <th>17865</th>\n",
       "      <td>2 died of Ebola: They said Obama should resign.\\n\\n4 died in Benghazi: They had Hillary testify for 11 hours, held 33 hearings and launched a multiyear probe.\\n\\n1,035,031 Covid deaths plus an armed insurrection thanks to Trump’s malevolence: They cheered and want America to move on.</td>\n",
       "      <td>616</td>\n",
       "    </tr>\n",
       "  </tbody>\n",
       "</table>\n",
       "</div>"
      ],
      "text/plain": [
       "                                                                                                                                                                                                                                                                                                        original_text  \\\n",
       "90835  Dr. Fauci is a pillar of the public health community. From HIV and AIDS to Ebola to COVID, he has kept the American public informed and prepared through multiple crises. It was an honor having him in the briefing room to remind Americans on the importance of getting vaccinated. https://t.co/O0qXuNpY11   \n",
       "11204                                                                                                                                                       Ian Blackford couldn’t empty a room any quicker if he was a known carrier of ebola. It’s an astonishing, unparalleled talent \\n\\n https://t.co/4iurrMPtTM   \n",
       "84710                                                      Regarding the Ebola situation, first of all, there will be NO LOCKDOWN. Therefore, people should go ahead and concentrate on their work without worry. However,  we should be more vigilant and observe the SOPs put in place to control the Ebola spread.   \n",
       "50970                        I regret to announce that we have lost our first doctor, Dr Mohammed Ali, a Tanzanian National, 37yr old Male today at 3:15am. He tested positive of Ebola on Sept 26, 2022 and died while receiving treatment at Fort Portal RRH, Isolation facility ( JMedic). https://t.co/NoqEUtqKcM   \n",
       "87707                                                                                                               I will address the nation today from Nakasero State Lodge at 8:00pm on the current status of Ebola in the country. Tune in for this address on TV and Radio. I thank you. https://t.co/vc718Zq0YE   \n",
       "91959  Today regime officials graced a marathon with thousands of people. Robina Nabbanja, Diana Atwiine from the Ministry of Health, etc! The same regime has kept the people of Mubende and Kassanda under a lockdown to apparently control ebola and closed schools two weeks before time! https://t.co/xuM677mGis   \n",
       "44423                                                                                                                                                               Health authorities in Uganda have confirmed the death of three more Ebola patients in the country https://t.co/tfNMFutbwz https://t.co/WJRC3Fj8u1   \n",
       "47375                                                                     I regret to announce the passing of another Health worker, Ms. Nabisubi Margaret, an anesthetic officer. The 58 year old succumbed to Ebola at 4.33am this morning at Fort Portal Hospital (JMedic) after battling the disease for 17 days.   \n",
       "44061     ❗ An outbreak of #Ebola virus 🦠 has been declared in 🇺🇬 after a case was confirmed in Mubende district, in the centre of the country, according to @who.\\n\\nIt is the first time in more than a decade that the Sudan strain has been found in Uganda.\\n\\n👉 https://t.co/1pDOOUbVGQ https://t.co/0XUsN6gwkc   \n",
       "17865                    2 died of Ebola: They said Obama should resign.\\n\\n4 died in Benghazi: They had Hillary testify for 11 hours, held 33 hearings and launched a multiyear probe.\\n\\n1,035,031 Covid deaths plus an armed insurrection thanks to Trump’s malevolence: They cheered and want America to move on.   \n",
       "\n",
       "       reply_count  \n",
       "90835         6226  \n",
       "11204         1809  \n",
       "84710         1628  \n",
       "50970         1471  \n",
       "87707         1077  \n",
       "91959          987  \n",
       "44423          720  \n",
       "47375          676  \n",
       "44061          630  \n",
       "17865          616  "
      ]
     },
     "execution_count": 26,
     "metadata": {},
     "output_type": "execute_result"
    }
   ],
   "source": [
    "df_sorted_replies = df.sort_values(by='reply_count', ascending=False)\n",
    "top_10_replies = df_sorted_replies.head(10)\n",
    "top_10_replies[['original_text','reply_count']]"
   ]
  },
  {
   "cell_type": "code",
   "execution_count": 27,
   "id": "7389d14a",
   "metadata": {
    "slideshow": {
     "slide_type": "subslide"
    }
   },
   "outputs": [
    {
     "data": {
      "text/html": [
       "<div>\n",
       "<style scoped>\n",
       "    .dataframe tbody tr th:only-of-type {\n",
       "        vertical-align: middle;\n",
       "    }\n",
       "\n",
       "    .dataframe tbody tr th {\n",
       "        vertical-align: top;\n",
       "    }\n",
       "\n",
       "    .dataframe thead th {\n",
       "        text-align: right;\n",
       "    }\n",
       "</style>\n",
       "<table border=\"1\" class=\"dataframe\">\n",
       "  <thead>\n",
       "    <tr style=\"text-align: right;\">\n",
       "      <th></th>\n",
       "      <th>original_text</th>\n",
       "      <th>like_count</th>\n",
       "    </tr>\n",
       "  </thead>\n",
       "  <tbody>\n",
       "    <tr>\n",
       "      <th>34541</th>\n",
       "      <td>My kids are never going to hear the end of it, I lived through two recessions, Ebola, 2011 riots, covid, monkey pox, queens death, ww3, the storming of the capitol, 3 Tory mps quitting, brexit . Chai</td>\n",
       "      <td>47839</td>\n",
       "    </tr>\n",
       "    <tr>\n",
       "      <th>17865</th>\n",
       "      <td>2 died of Ebola: They said Obama should resign.\\n\\n4 died in Benghazi: They had Hillary testify for 11 hours, held 33 hearings and launched a multiyear probe.\\n\\n1,035,031 Covid deaths plus an armed insurrection thanks to Trump’s malevolence: They cheered and want America to move on.</td>\n",
       "      <td>34010</td>\n",
       "    </tr>\n",
       "    <tr>\n",
       "      <th>50970</th>\n",
       "      <td>I regret to announce that we have lost our first doctor, Dr Mohammed Ali, a Tanzanian National, 37yr old Male today at 3:15am. He tested positive of Ebola on Sept 26, 2022 and died while receiving treatment at Fort Portal RRH, Isolation facility ( JMedic). https://t.co/NoqEUtqKcM</td>\n",
       "      <td>15700</td>\n",
       "    </tr>\n",
       "    <tr>\n",
       "      <th>30778</th>\n",
       "      <td>He became a lightning rod during Covid. But I first started covering Fauci closely during Ebola. And two things stood out. 1. He treated patients himself. 2. He made it point to try and de-stigmatize the patient. His hug of Nina Pham was an indelible image of that scary moment. https://t.co/R958L5dcYz</td>\n",
       "      <td>14921</td>\n",
       "    </tr>\n",
       "    <tr>\n",
       "      <th>90835</th>\n",
       "      <td>Dr. Fauci is a pillar of the public health community. From HIV and AIDS to Ebola to COVID, he has kept the American public informed and prepared through multiple crises. It was an honor having him in the briefing room to remind Americans on the importance of getting vaccinated. https://t.co/O0qXuNpY11</td>\n",
       "      <td>14691</td>\n",
       "    </tr>\n",
       "    <tr>\n",
       "      <th>84710</th>\n",
       "      <td>Regarding the Ebola situation, first of all, there will be NO LOCKDOWN. Therefore, people should go ahead and concentrate on their work without worry. However,  we should be more vigilant and observe the SOPs put in place to control the Ebola spread.</td>\n",
       "      <td>10660</td>\n",
       "    </tr>\n",
       "    <tr>\n",
       "      <th>28611</th>\n",
       "      <td>Nurse Justina Obi Ejelonu.\\n\\nToday, we remember Nurse Justina Ejelonu, who died on this day 8 years ago on the frontline caring for the man with the Ebola virus. Since her death, history has not been kind to her.\\n\\nNo immortalization!\\n\\nLet's Retweet in respect to the fallen patriot https://t.co/hqeKTQaFfP</td>\n",
       "      <td>9676</td>\n",
       "    </tr>\n",
       "    <tr>\n",
       "      <th>16320</th>\n",
       "      <td>Went to CVS today. No pharmacist or patron even bothers to wear a mask. \\n\\nSome guy asked me why I’m still wearing a mask.. I say I have hybrid of Ebola &amp;amp; Monkey Pox but the drs. told me it was fine to go out &amp;amp; do whatever.  \\n\\nHe steps back quietly &amp;amp; said is that contagious to me?</td>\n",
       "      <td>8710</td>\n",
       "    </tr>\n",
       "    <tr>\n",
       "      <th>91959</th>\n",
       "      <td>Today regime officials graced a marathon with thousands of people. Robina Nabbanja, Diana Atwiine from the Ministry of Health, etc! The same regime has kept the people of Mubende and Kassanda under a lockdown to apparently control ebola and closed schools two weeks before time! https://t.co/xuM677mGis</td>\n",
       "      <td>7419</td>\n",
       "    </tr>\n",
       "    <tr>\n",
       "      <th>87135</th>\n",
       "      <td>Ebola victim who was safely buried in Uganda was exhumed by family members to perform religious rituals. 10 of those relatives have since died - president</td>\n",
       "      <td>7340</td>\n",
       "    </tr>\n",
       "  </tbody>\n",
       "</table>\n",
       "</div>"
      ],
      "text/plain": [
       "                                                                                                                                                                                                                                                                                                                original_text  \\\n",
       "34541                                                                                                                 My kids are never going to hear the end of it, I lived through two recessions, Ebola, 2011 riots, covid, monkey pox, queens death, ww3, the storming of the capitol, 3 Tory mps quitting, brexit . Chai   \n",
       "17865                            2 died of Ebola: They said Obama should resign.\\n\\n4 died in Benghazi: They had Hillary testify for 11 hours, held 33 hearings and launched a multiyear probe.\\n\\n1,035,031 Covid deaths plus an armed insurrection thanks to Trump’s malevolence: They cheered and want America to move on.   \n",
       "50970                                I regret to announce that we have lost our first doctor, Dr Mohammed Ali, a Tanzanian National, 37yr old Male today at 3:15am. He tested positive of Ebola on Sept 26, 2022 and died while receiving treatment at Fort Portal RRH, Isolation facility ( JMedic). https://t.co/NoqEUtqKcM   \n",
       "30778          He became a lightning rod during Covid. But I first started covering Fauci closely during Ebola. And two things stood out. 1. He treated patients himself. 2. He made it point to try and de-stigmatize the patient. His hug of Nina Pham was an indelible image of that scary moment. https://t.co/R958L5dcYz   \n",
       "90835          Dr. Fauci is a pillar of the public health community. From HIV and AIDS to Ebola to COVID, he has kept the American public informed and prepared through multiple crises. It was an honor having him in the briefing room to remind Americans on the importance of getting vaccinated. https://t.co/O0qXuNpY11   \n",
       "84710                                                              Regarding the Ebola situation, first of all, there will be NO LOCKDOWN. Therefore, people should go ahead and concentrate on their work without worry. However,  we should be more vigilant and observe the SOPs put in place to control the Ebola spread.   \n",
       "28611  Nurse Justina Obi Ejelonu.\\n\\nToday, we remember Nurse Justina Ejelonu, who died on this day 8 years ago on the frontline caring for the man with the Ebola virus. Since her death, history has not been kind to her.\\n\\nNo immortalization!\\n\\nLet's Retweet in respect to the fallen patriot https://t.co/hqeKTQaFfP   \n",
       "16320                Went to CVS today. No pharmacist or patron even bothers to wear a mask. \\n\\nSome guy asked me why I’m still wearing a mask.. I say I have hybrid of Ebola &amp; Monkey Pox but the drs. told me it was fine to go out &amp; do whatever.  \\n\\nHe steps back quietly &amp; said is that contagious to me?   \n",
       "91959          Today regime officials graced a marathon with thousands of people. Robina Nabbanja, Diana Atwiine from the Ministry of Health, etc! The same regime has kept the people of Mubende and Kassanda under a lockdown to apparently control ebola and closed schools two weeks before time! https://t.co/xuM677mGis   \n",
       "87135                                                                                                                                                              Ebola victim who was safely buried in Uganda was exhumed by family members to perform religious rituals. 10 of those relatives have since died - president   \n",
       "\n",
       "       like_count  \n",
       "34541       47839  \n",
       "17865       34010  \n",
       "50970       15700  \n",
       "30778       14921  \n",
       "90835       14691  \n",
       "84710       10660  \n",
       "28611        9676  \n",
       "16320        8710  \n",
       "91959        7419  \n",
       "87135        7340  "
      ]
     },
     "execution_count": 27,
     "metadata": {},
     "output_type": "execute_result"
    }
   ],
   "source": [
    "df_sorted_likes = df.sort_values(by='like_count', ascending=False)\n",
    "top_10_likes = df_sorted_likes.head(10)\n",
    "top_10_likes[['original_text','like_count']]"
   ]
  },
  {
   "cell_type": "markdown",
   "id": "e839ceec",
   "metadata": {
    "slideshow": {
     "slide_type": "slide"
    }
   },
   "source": [
    "CORPUS CREATION"
   ]
  },
  {
   "cell_type": "code",
   "execution_count": 30,
   "id": "bfa934ce",
   "metadata": {
    "slideshow": {
     "slide_type": "fragment"
    }
   },
   "outputs": [
    {
     "data": {
      "text/plain": [
       "0                                                                           September 16, 2019 – A gas explosion in Koltsovo, Novosibirsk Oblast, Russia sets off a fire in a bioweapons plant that houses viruses including smallpox, ebola and anthrax.  #VoidMoon    https://t.co/xG7IRDRJz4.\n",
       "1        At the high-containment labs identified by USA TODAY, experiments are underway involving drug-resistant tuberculosis, exotic strains of flu, the SARS and MERS viruses, plague, anthrax, botulism, ricin and the Ebola and Marburg hemorrhagic fever viruses\\n\\nhttps://t.co/svUsBgSUX3\n",
       "2                                                                                                                                                                                           Don't be surprised if we find out that Ebola was imported into Africa from a U.S. biolab in Ukraine.\n",
       "3              At the high-containment labs in US, identified by USA TODAY, experiments are underway involving drug-resistant tuberculosis, exotic strains of flu, the SARS and MERS viruses, plague, anthrax, botulism, ricin and the Ebola and Marburg hemorrhagic fever viruses, according to\n",
       "4                                                                                                                                                                                                             Coronavirus🦠🧬 gone disappear just like swine flu, ebola,  ya daddy and them taxes.\n",
       "                                                                                                                                                  ...                                                                                                                                           \n",
       "93966                                                                                             Pharmalittle: Big PBM keeps AbbVie's Humira on formulary; Lilly CEO says fake tweet means there's more to do on insulin costs \\n\\n#MedPub #MedTwitter #MedEd #MedNews\\nhttps://t.co/uZUyJ0777d\n",
       "93967                                                                                                                  Samuel lives in one of two communities at the epicentre of Uganda's Ebola lockdown.\\n\\n🎧 Can Uganda contain the outbreak? https://t.co/USFiXmfV28 https://t.co/yZ2fai9t4A\n",
       "93968         Pharmalot.. Pharmalittle.. Good Morning: Big PBM keeps AbbVie’s Humira on formulary; Lilly CEO says fake tweet means there’s more to do on insulin costs &amp; More news.. https://t.co/xvpNtJp1HC #pharma #insulin #antibiotics #COVID19 #ebola $LLY $ABBV $UNH $ESALY $JNJ $ARDX\n",
       "93969                                                      #Ebola is active in #Kampala, Uganda's capital. Here's  the kind of nimble &amp; inventive thinking needed to build trust, stop the dying, &amp; contain the disease. #EndingEpidemics by @mfallah1969      \\nhttps://t.co/51it5gKjMY\n",
       "93970                                                                                                                                                                                                                                          She got Ebola if her bra and panties don't match.\n",
       "Name: original_text, Length: 93971, dtype: object"
      ]
     },
     "execution_count": 30,
     "metadata": {},
     "output_type": "execute_result"
    }
   ],
   "source": [
    "corpus = df['original_text']\n",
    "corpus"
   ]
  },
  {
   "cell_type": "markdown",
   "id": "a0f6daff",
   "metadata": {
    "slideshow": {
     "slide_type": "subslide"
    }
   },
   "source": [
    "Top 20 most common tweets"
   ]
  },
  {
   "cell_type": "code",
   "execution_count": 29,
   "id": "bf4b76b2",
   "metadata": {
    "slideshow": {
     "slide_type": "fragment"
    }
   },
   "outputs": [
    {
     "data": {
      "text/plain": [
       "my arm itches I think i have Ebola                                                                                                                                                                                                                                         303\n",
       "Your tweet gave me\\n- a cold\\n- ebola\\n- probably every illness in the entire world                                                                                                                                                                                        297\n",
       "How to give Vanitas Drop kicking ebola                                                                                                                                                                                                                                     283\n",
       "How to spread ebola to Vanitas                                                                                                                                                                                                                                             283\n",
       "The Ebola virus kills 4 out of every 5 humans it infects.                                                                                                                                                                                                                  259\n",
       "My Dad told me that I started Ebola                                                                                                                                                                                                                                        213\n",
       "tbh ebola is probably just another mononoke                                                                                                                                                                                                                                203\n",
       "I have morning wood like a ebola dude I'm  so happy                                                                                                                                                                                                                        161\n",
       "W.H.O. &amp; U.N. exposed in the Congo sex abuse Ebola crisis scandal https://t.co/86KVp8NjxU                                                                                                                                                                              139\n",
       "W.H.O. &amp; U.N. exposed in the Congo sex abuse Ebola crisis scandal https://t.co/IF32w6cJds                                                                                                                                                                              138\n",
       "W.H.O. &amp; U.N. exposed in the Congo sex abuse Ebola crisis scandal https://t.co/DcsI85bjqY                                                                                                                                                                              137\n",
       "W.H.O. &amp; U.N. exposed in the Congo sex abuse Ebola crisis scandal https://t.co/Ydy2J0uNaD                                                                                                                                                                              137\n",
       "W.H.O. &amp; U.N. exposed in the Congo sex abuse Ebola crisis scandal https://t.co/WTFD87ce4n                                                                                                                                                                              135\n",
       "W.H.O. &amp; U.N. exposed in the Congo sex abuse Ebola crisis scandal https://t.co/k0j7xwaeiv                                                                                                                                                                              131\n",
       "As the world spirals toward chaos, Amy Cooper fights to stop the evolution of a deadly virus. When her beliefs disagree with the Administration’s agenda, she is put on trial. #virus #ebola #coronavirus #religion #persecution Midnight Hour: https://t.co/DIojcTgmor    130\n",
       "W.H.O. &amp; U.N. exposed in the Congo sex abuse Ebola crisis scandal https://t.co/O44VKT4hvw                                                                                                                                                                              128\n",
       "Dude, you scared the shit out of me! When you say contamination, I mean, I'm thinkin' like, uh, like an ebola leak, or something.                                                                                                                                          124\n",
       "As the world spirals toward chaos, Amy Cooper fights to stop the evolution of a deadly virus. When her beliefs disagree with the Administration’s agenda, she is put on trial. #virus #ebola #coronavirus #religion #persecution Midnight Hour: https://t.co/pRdHFd6wuE    117\n",
       "W.H.O. &amp; U.N. exposed in the Congo sex abuse Ebola crisis scandal https://t.co/i9pV8EIaJE                                                                                                                                                                               83\n",
       "W.H.O. &amp; U.N. exposed in the Congo sex abuse Ebola crisis scandal https://t.co/7GJygXKIc4                                                                                                                                                                               83\n",
       "Name: original_text, dtype: int64"
      ]
     },
     "execution_count": 29,
     "metadata": {},
     "output_type": "execute_result"
    }
   ],
   "source": [
    "df[\"original_text\"].value_counts().head(20)"
   ]
  }
 ],
 "metadata": {
  "celltoolbar": "Slideshow",
  "kernelspec": {
   "display_name": "Python 3 (ipykernel)",
   "language": "python",
   "name": "python3"
  },
  "language_info": {
   "codemirror_mode": {
    "name": "ipython",
    "version": 3
   },
   "file_extension": ".py",
   "mimetype": "text/x-python",
   "name": "python",
   "nbconvert_exporter": "python",
   "pygments_lexer": "ipython3",
   "version": "3.9.12"
  }
 },
 "nbformat": 4,
 "nbformat_minor": 5
}
